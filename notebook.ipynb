{
 "cells": [
  {
   "cell_type": "code",
   "execution_count": 2,
   "id": "c325dd45-322c-49e8-a804-8dc6dba99bc3",
   "metadata": {},
   "outputs": [],
   "source": [
    "import numpy as np\n",
    "import pandas as pd\n",
    "import seaborn as sns\n",
    "import matplotlib.pyplot as plt\n",
    "\n",
    "from sklearn.model_selection import train_test_split\n",
    "from sklearn.feature_extraction.text import TfidfVectorizer\n",
    "from sklearn.linear_model import LogisticRegression\n",
    "from sklearn.metrics import classification_report, accuracy_score, confusion_matrix\n",
    "from wordcloud import WordCloud"
   ]
  },
  {
   "cell_type": "markdown",
   "id": "a9b0e999-f855-4f55-a058-2e4332c2882d",
   "metadata": {},
   "source": [
    "# Understanding the dataset"
   ]
  },
  {
   "cell_type": "code",
   "execution_count": 3,
   "id": "02c8d4c8-e1de-4fbb-bd82-dd80faa44033",
   "metadata": {},
   "outputs": [
    {
     "data": {
      "text/html": [
       "<div>\n",
       "<style scoped>\n",
       "    .dataframe tbody tr th:only-of-type {\n",
       "        vertical-align: middle;\n",
       "    }\n",
       "\n",
       "    .dataframe tbody tr th {\n",
       "        vertical-align: top;\n",
       "    }\n",
       "\n",
       "    .dataframe thead th {\n",
       "        text-align: right;\n",
       "    }\n",
       "</style>\n",
       "<table border=\"1\" class=\"dataframe\">\n",
       "  <thead>\n",
       "    <tr style=\"text-align: right;\">\n",
       "      <th></th>\n",
       "      <th>id</th>\n",
       "      <th>title</th>\n",
       "      <th>author</th>\n",
       "      <th>text</th>\n",
       "      <th>label</th>\n",
       "    </tr>\n",
       "  </thead>\n",
       "  <tbody>\n",
       "    <tr>\n",
       "      <th>0</th>\n",
       "      <td>0</td>\n",
       "      <td>House Dem Aide: We Didn’t Even See Comey’s Let...</td>\n",
       "      <td>Darrell Lucus</td>\n",
       "      <td>House Dem Aide: We Didn’t Even See Comey’s Let...</td>\n",
       "      <td>1</td>\n",
       "    </tr>\n",
       "    <tr>\n",
       "      <th>1</th>\n",
       "      <td>1</td>\n",
       "      <td>FLYNN: Hillary Clinton, Big Woman on Campus - ...</td>\n",
       "      <td>Daniel J. Flynn</td>\n",
       "      <td>Ever get the feeling your life circles the rou...</td>\n",
       "      <td>0</td>\n",
       "    </tr>\n",
       "    <tr>\n",
       "      <th>2</th>\n",
       "      <td>2</td>\n",
       "      <td>Why the Truth Might Get You Fired</td>\n",
       "      <td>Consortiumnews.com</td>\n",
       "      <td>Why the Truth Might Get You Fired October 29, ...</td>\n",
       "      <td>1</td>\n",
       "    </tr>\n",
       "    <tr>\n",
       "      <th>3</th>\n",
       "      <td>3</td>\n",
       "      <td>15 Civilians Killed In Single US Airstrike Hav...</td>\n",
       "      <td>Jessica Purkiss</td>\n",
       "      <td>Videos 15 Civilians Killed In Single US Airstr...</td>\n",
       "      <td>1</td>\n",
       "    </tr>\n",
       "    <tr>\n",
       "      <th>4</th>\n",
       "      <td>4</td>\n",
       "      <td>Iranian woman jailed for fictional unpublished...</td>\n",
       "      <td>Howard Portnoy</td>\n",
       "      <td>Print \\nAn Iranian woman has been sentenced to...</td>\n",
       "      <td>1</td>\n",
       "    </tr>\n",
       "  </tbody>\n",
       "</table>\n",
       "</div>"
      ],
      "text/plain": [
       "   id                                              title              author  \\\n",
       "0   0  House Dem Aide: We Didn’t Even See Comey’s Let...       Darrell Lucus   \n",
       "1   1  FLYNN: Hillary Clinton, Big Woman on Campus - ...     Daniel J. Flynn   \n",
       "2   2                  Why the Truth Might Get You Fired  Consortiumnews.com   \n",
       "3   3  15 Civilians Killed In Single US Airstrike Hav...     Jessica Purkiss   \n",
       "4   4  Iranian woman jailed for fictional unpublished...      Howard Portnoy   \n",
       "\n",
       "                                                text  label  \n",
       "0  House Dem Aide: We Didn’t Even See Comey’s Let...      1  \n",
       "1  Ever get the feeling your life circles the rou...      0  \n",
       "2  Why the Truth Might Get You Fired October 29, ...      1  \n",
       "3  Videos 15 Civilians Killed In Single US Airstr...      1  \n",
       "4  Print \\nAn Iranian woman has been sentenced to...      1  "
      ]
     },
     "execution_count": 3,
     "metadata": {},
     "output_type": "execute_result"
    }
   ],
   "source": [
    "data = pd.read_csv(\"data/train.csv\")\n",
    "data.head()"
   ]
  },
  {
   "cell_type": "markdown",
   "id": "274f5707-5921-4a96-a2f7-db9a7ce07b9d",
   "metadata": {},
   "source": [
    "**In the 'label' column:**\n",
    "- 1 is unreliable\n",
    "- 0 is reliable\n",
    "\n",
    "Now, let us check for any missing values and display basic statistics of the dataset"
   ]
  },
  {
   "cell_type": "code",
   "execution_count": 4,
   "id": "37d73295-3816-414a-8000-43e42be379ee",
   "metadata": {},
   "outputs": [
    {
     "name": "stdout",
     "output_type": "stream",
     "text": [
      "<class 'pandas.core.frame.DataFrame'>\n",
      "RangeIndex: 20800 entries, 0 to 20799\n",
      "Data columns (total 5 columns):\n",
      " #   Column  Non-Null Count  Dtype \n",
      "---  ------  --------------  ----- \n",
      " 0   id      20800 non-null  int64 \n",
      " 1   title   20242 non-null  object\n",
      " 2   author  18843 non-null  object\n",
      " 3   text    20761 non-null  object\n",
      " 4   label   20800 non-null  int64 \n",
      "dtypes: int64(2), object(3)\n",
      "memory usage: 812.6+ KB\n",
      "None\n",
      "                 id         label\n",
      "count  20800.000000  20800.000000\n",
      "mean   10399.500000      0.500625\n",
      "std     6004.587135      0.500012\n",
      "min        0.000000      0.000000\n",
      "25%     5199.750000      0.000000\n",
      "50%    10399.500000      1.000000\n",
      "75%    15599.250000      1.000000\n",
      "max    20799.000000      1.000000\n"
     ]
    }
   ],
   "source": [
    "print(data.info())\n",
    "print(data.describe())"
   ]
  },
  {
   "cell_type": "markdown",
   "id": "82cdecfa-308d-485e-a115-bea1fc4f3498",
   "metadata": {},
   "source": [
    "The distribution of the 'label' column is shown below"
   ]
  },
  {
   "cell_type": "code",
   "execution_count": 5,
   "id": "d59d602d-5225-4142-aeb4-f376c65ef0a5",
   "metadata": {},
   "outputs": [
    {
     "data": {
      "image/png": "[encoded data removed]",
      "text/plain": [
       "<Figure size 640x480 with 1 Axes>"
      ]
     },
     "metadata": {},
     "output_type": "display_data"
    }
   ],
   "source": [
    "sns.countplot(x='label', data=data)\n",
    "\n",
    "plt.title('Distribution of Real (0) and Reliable (1) News')\n",
    "plt.show()"
   ]
  },
  {
   "cell_type": "markdown",
   "id": "0332c869-881c-40fe-9d83-b3d52087038f",
   "metadata": {},
   "source": [
    "The count plot above shows that fake and real news is in equal distribution within the dataset."
   ]
  },
  {
   "cell_type": "markdown",
   "id": "5948b22d-7d84-4b17-8664-e6149c0b5ae6",
   "metadata": {},
   "source": [
    "# Cleaning the data \n",
    "\n",
    "The dataset contains some NaN values, so I will try to apply some data processing techniques to handle some empty data sample values. \n",
    "\n",
    "For now, I will approach this by filling the empty text column values with empty strings."
   ]
  },
  {
   "cell_type": "code",
   "execution_count": null,
   "id": "68ce2d29-3de6-47f6-8557-cc2d00b35050",
   "metadata": {},
   "outputs": [],
   "source": [
    "data['text'].fillna('', inplace=True)\n",
    "\n",
    "print(data.info())\n",
    "print(data.describe())"
   ]
  },
  {
   "cell_type": "markdown",
   "id": "5baa44e1-3b7e-41fd-9989-96df2bcaf9ba",
   "metadata": {},
   "source": [
    "# Bag-of-words approach\n",
    "\n",
    "Let us first start by tokenising and creating a bag-of-words representation of the text of each article. Then we will use this as our $X$ variable in the model"
   ]
  },
  {
   "cell_type": "code",
   "execution_count": 9,
   "id": "9de07de8-5fbf-4393-bd4e-bab5acf4b26d",
   "metadata": {
    "scrolled": true
   },
   "outputs": [],
   "source": [
    "tfidf_vectorizer = TfidfVectorizer(stop_words='english')\n",
    "\n",
    "X = tfidf_vectorizer.fit_transform(data['text'])"
   ]
  },
  {
   "cell_type": "code",
   "execution_count": null,
   "id": "6a4dbb77-2088-44d0-a659-e5488f732aab",
   "metadata": {},
   "outputs": [],
   "source": [
    "sparsity = 1.0 - (np.count_nonzero(X.toarray()) / float(X.shape[0] * X.shape[1]))\n",
    "\n",
    "# Visualize sparsity\n",
    "plt.figure(figsize=(8, 6))\n",
    "sns.heatmap(X.toarray() == 0, cbar=False, cmap='viridis')\n",
    "plt.title(f'Sparsity: {sparsity:.2%}')\n",
    "plt.show()"
   ]
  },
  {
   "cell_type": "code",
   "execution_count": null,
   "id": "9018d878-d403-4fb4-9fa6-2b21ce47e3e2",
   "metadata": {},
   "outputs": [],
   "source": []
  }
 ],
 "metadata": {
  "kernelspec": {
   "display_name": ".venv",
   "language": "python",
   "name": ".venv"
  },
  "language_info": {
   "codemirror_mode": {
    "name": "ipython",
    "version": 3
   },
   "file_extension": ".py",
   "mimetype": "text/x-python",
   "name": "python",
   "nbconvert_exporter": "python",
   "pygments_lexer": "ipython3",
   "version": "3.11.4"
  }
 },
 "nbformat": 4,
 "nbformat_minor": 5
}
