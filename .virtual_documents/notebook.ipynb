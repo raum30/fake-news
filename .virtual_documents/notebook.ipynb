import numpy as np
import pandas as pd
import seaborn as sns
import matplotlib.pyplot as plt

from sklearn.model_selection import train_test_split
from sklearn.feature_extraction.text import TfidfVectorizer
from sklearn.linear_model import LogisticRegression
from sklearn.metrics import classification_report, accuracy_score, confusion_matrix
from wordcloud import WordCloud





data = pd.read_csv("data/train.csv")
data.head()





print(data.info())
print("\n")
print(data.describe())





sns.countplot(x='label', data=data)

plt.title('Distribution of Fake (1) and Real (2) News')
plt.show()








tfidf_vectorizer = TfidfVectorizer(stop_words='english')

X = tfidf_vectorizer.fit_transform(data['text'])



