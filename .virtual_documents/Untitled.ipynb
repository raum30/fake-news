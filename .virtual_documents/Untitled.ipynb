%pip install numpy pandas


import numpy as np
import pandas as pd


data = pd.read_csv("data/train.csv")
data.head()



